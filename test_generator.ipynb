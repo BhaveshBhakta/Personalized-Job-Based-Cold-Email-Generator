{
 "cells": [
  {
   "cell_type": "markdown",
   "metadata": {},
   "source": [
    "# Personalized Job-Based Cold Email Generator"
   ]
  },
  {
   "cell_type": "markdown",
   "metadata": {},
   "source": [
    "#### This project leverages the power of Large Language Models (LLMs), specifically LLaMA 3.1 via Groq, to automatically generate personalized cold emails for job applications. Instead of relying on predefined CSV portfolios or keyword matching, this system:\n",
    "\n",
    "🔹 Extracts detailed information from a job posting URL  \n",
    "🔹 Parses and analyzes your uploaded resume (PDF or DOCX)  \n",
    "🔹 Crafts a compelling, role-specific cold email tailored to your skills and experience  \n",
    "\n",
    "It combines natural language understanding with your professional profile to help you stand out to recruiters and hiring managers — all with just one click.\n"
   ]
  },
  {
   "cell_type": "code",
   "execution_count": 1,
   "metadata": {},
   "outputs": [
    {
     "name": "stderr",
     "output_type": "stream",
     "text": [
      "USER_AGENT environment variable not set, consider setting it to identify your requests.\n"
     ]
    }
   ],
   "source": [
    "# Importing Libraries\n",
    "\n",
    "import re\n",
    "from PyPDF2 import PdfReader\n",
    "from langchain_groq import ChatGroq\n",
    "from langchain_core.prompts import PromptTemplate\n",
    "from langchain_core.output_parsers import JsonOutputParser\n",
    "from langchain_core.exceptions import OutputParserException\n",
    "from langchain_community.document_loaders import WebBaseLoader"
   ]
  },
  {
   "cell_type": "code",
   "execution_count": 2,
   "metadata": {},
   "outputs": [],
   "source": [
    "# Function for Text Cleaning\n",
    "\n",
    "def clean_text(text):\n",
    "    text = re.sub(r'\\n\\s*\\n+', '\\n\\n', text)\n",
    "    return '\\n'.join(line.strip() for line in text.strip().splitlines())\n",
    "\n",
    "# Function for Loading Resume\n",
    "\n",
    "def load_resume(file_path):\n",
    "    if file_path.endswith(\".pdf\"):\n",
    "        reader = PdfReader(file_path)\n",
    "        page_content = \"\"\n",
    "        for page in reader.pages:\n",
    "            page_content += page.extract_text()\n",
    "        return page_content\n",
    "    elif file_path.endswith(\".docx\"):\n",
    "        doc = Document(file_path)\n",
    "        return \"\\n\".join([paragraph.text for paragraph in doc.paragraphs])\n",
    "    else:\n",
    "        raise ValueError(\"Unsupported file type\")\n"
   ]
  },
  {
   "cell_type": "code",
   "execution_count": null,
   "metadata": {},
   "outputs": [],
   "source": [
    "# Class for Cold Email Generation\n",
    "\n",
    "class ColdEmailGenerator:\n",
    "    def __init__(self):\n",
    "        self.llm = ChatGroq(\n",
    "                            temperature = 0.2, # Adjust temperature for creativity\n",
    "                            groq_api_key = 'gskxxxxxxxxxxxxxxxxxxxxxxxx', # Add your Groq API key here\n",
    "                            model_name = \"llama-3.3-70b-versatile\" # Change to your desired model\n",
    "                            )\n",
    "\n",
    "    def extract_jobs(self, page_data):  # Prompt for extracting job postings\n",
    "        prompt = PromptTemplate.from_template(\n",
    "            \"\"\"\n",
    "            ### SCRAPED TEXT FROM WEBSITE:\n",
    "            {page_data}\n",
    "            ### INSTRUCTION:\n",
    "            Extract job postings and return them in JSON with: `role`, `experience`, `skills`, and `description`.\n",
    "            ### OUTPUT:\n",
    "            \"\"\"\n",
    "        )\n",
    "        \n",
    "        chain = prompt | self.llm # Creating a chain with the Prompt and LLM\n",
    "        res = chain.invoke({\"page_data\": page_data})\n",
    "        try:\n",
    "            return JsonOutputParser().parse(res.content)\n",
    "        except OutputParserException:\n",
    "            raise OutputParserException(\"Couldn't parse job description.\")\n",
    "    \n",
    "    def generate_email(self, job_info, resume_text): # Prompt for generating cold email\n",
    "        prompt = PromptTemplate.from_template(\n",
    "            \"\"\"\n",
    "            ### JOB DESCRIPTION:\n",
    "            {job_description}\n",
    "\n",
    "            ### CANDIDATE RESUME:\n",
    "            {resume_text}\n",
    "\n",
    "            ### INSTRUCTION:\n",
    "            You are a job applicant writing a cold email to express interest in the above job. \n",
    "            Highlight why you're a great fit based on your resume and background. \n",
    "            Make it concise, professional, and specific. No generic fluff.\n",
    "\n",
    "            ### COLD EMAIL:\n",
    "            \"\"\"\n",
    "        )\n",
    "        chain = prompt | self.llm\n",
    "        res = chain.invoke({\"job_description\": str(job_info), \"resume_text\": resume_text})\n",
    "        return res.content"
   ]
  },
  {
   "cell_type": "code",
   "execution_count": 4,
   "metadata": {},
   "outputs": [
    {
     "data": {
      "text/plain": [
       "{'job_posting': {'role': 'Designer II, Apparel Graphics, Sport',\n",
       "  'experience': '1-4+ years of relevant Product Graphic Design experience',\n",
       "  'skills': ['Bachelor’s degree in graphic design, fashion design, product design, industrial design, or equivalent combination of relevant education, experience and training',\n",
       "   'Ability to create seasonal Graphic and Print designs and concepts, and explore new Graphic Design innovations and applications',\n",
       "   'Understanding of the Apparel Product Creation process, Footwear Product Creation experience a plus',\n",
       "   'Experience working and communicating directly with manufacturing partners to ensure the accuracy of Graphics application and execution',\n",
       "   'Ability to create and edit files using Adobe programs including Photoshop and Illustrator',\n",
       "   'Experience building inspiration/concept presentations, and mood boards for seasonal concepts and direction',\n",
       "   'Ability to present new ideas or seasonal concepts to small and large groups'],\n",
       "  'description': 'We’re looking for an exceptional Product Graphic Designer II to combine their experience, problem solving abilities, and creativity to help create the future of Jordan Graphic Design. The ideal candidate needs to be a highly creative problem solver, who doesn’t settle for anything less than the best Graphic Design solutions, to meet the needs of the consumer or athlete.'}}"
      ]
     },
     "execution_count": 4,
     "metadata": {},
     "output_type": "execute_result"
    }
   ],
   "source": [
    "# Example Usage\n",
    "\n",
    "job_url = \"https://careers.nike.com/designer-ii-apparel-graphics-sport/job/R-49261\" \n",
    "loader = WebBaseLoader([job_url])\n",
    "page_text = loader.load().pop().page_content\n",
    "cleaned_job_text = clean_text(page_text)\n",
    "\n",
    "email_gen = ColdEmailGenerator()\n",
    "job_info = email_gen.extract_jobs(cleaned_job_text)\n",
    "job_info = job_info if isinstance(job_info, list) else [job_info]\n",
    "\n",
    "job_info[0]"
   ]
  },
  {
   "cell_type": "code",
   "execution_count": 5,
   "metadata": {},
   "outputs": [
    {
     "name": "stdout",
     "output_type": "stream",
     "text": [
      "\n"
     ]
    }
   ],
   "source": [
    "# Loading Resume\n",
    "\n",
    "resume_raw = load_resume(\"/home/bhxveshhh/ML/LangChain/Cold Email Generator/testresume.pdf\")\n",
    "print(resume_raw)"
   ]
  },
  {
   "cell_type": "code",
   "execution_count": 6,
   "metadata": {},
   "outputs": [
    {
     "name": "stdout",
     "output_type": "stream",
     "text": [
      "Subject: Application for Designer II, Apparel Graphics, Sport Role\n",
      "\n",
      "Dear Hiring Manager,\n",
      "\n",
      "I am excited to express my interest in the Designer II, Apparel Graphics, Sport position at Jordan. With 3+ years of experience in Product Graphic Design and a Bachelor's degree in Graphic Design, I am confident that my skills and background make me a strong fit for this role.\n",
      "\n",
      "As a seasoned graphic designer, I have a proven track record of creating innovative and seasonal graphic designs, having worked on multiple projects that involved exploring new design applications and presenting concepts to both small and large groups. My experience working with manufacturing partners to ensure accurate graphic execution has also honed my attention to detail and communication skills.\n",
      "\n",
      "Proficient in Adobe Creative Suite, including Photoshop and Illustrator, I have a solid foundation in designing and editing files for apparel and footwear products. My understanding of the product creation process, combined with my passion for staying up-to-date on the latest design trends, enables me to develop inspiring concept presentations and mood boards that drive seasonal concepts and direction.\n",
      "\n",
      "I am particularly drawn to this role at Jordan because of the opportunity to combine my creativity, problem-solving skills, and experience to help shape the future of Jordan Graphic Design. I am excited about the prospect of working with a talented team to deliver exceptional graphic design solutions that meet the needs of consumers and athletes.\n",
      "\n",
      "I would welcome the opportunity to discuss my application and how my skills and experience align with the requirements of this role. Please find my resume attached for your review. I look forward to the opportunity to contribute to the Jordan team.\n",
      "\n",
      "Best regards,\n",
      "[Your Name]\n"
     ]
    }
   ],
   "source": [
    "# Generating Cold Email\n",
    "\n",
    "cold_email = email_gen.generate_email(job_info[0], resume_raw)\n",
    "print(cold_email)"
   ]
  }
 ],
 "metadata": {
  "kernelspec": {
   "display_name": "testenv",
   "language": "python",
   "name": "python3"
  },
  "language_info": {
   "codemirror_mode": {
    "name": "ipython",
    "version": 3
   },
   "file_extension": ".py",
   "mimetype": "text/x-python",
   "name": "python",
   "nbconvert_exporter": "python",
   "pygments_lexer": "ipython3",
   "version": "3.12.8"
  }
 },
 "nbformat": 4,
 "nbformat_minor": 2
}
